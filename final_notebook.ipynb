{
 "cells": [
  {
   "cell_type": "code",
   "execution_count": 2,
   "metadata": {},
   "outputs": [],
   "source": [
    "# Import necessary Python libraries\n",
    "import cv2\n",
    "import matplotlib.pyplot as plt\n",
    "from skimage.measure import compare_ssim as ssim\n",
    "import numpy as np\n",
    "import os"
   ]
  },
  {
   "cell_type": "code",
   "execution_count": null,
   "metadata": {},
   "outputs": [],
   "source": [
    "# Raw dataframe initialisation\n",
    "df_raw = pd.DataFrame(columns = [\"sample_name\",\n",
    "                                 \"length_of_each_load\",\n",
    "                                 \"number_of_loads\",\n",
    "                                 \"sum_of_length_of_each_load\",\n",
    "                                 \"mean_load_length\",\n",
    "                                 \"load_length_deviation\",\n",
    "                                 \"shrine_state\", \n",
    "                                 \"length_of_shrine_load_unload\"])"
   ]
  },
  {
   "cell_type": "code",
   "execution_count": 17,
   "metadata": {},
   "outputs": [
    {
     "name": "stdout",
     "output_type": "stream",
     "text": [
      "['magnesis', 'btb0', 'loaded.mkv']\n",
      "incorrect file name\n",
      "['magnesis', 'btb0', 'loaded', 'trimmed.mp4']\n",
      "['magnesis', 'btb1', 'loaded.mkv']\n",
      "incorrect file name\n",
      "['magnesis', 'btb2', 'loaded.mkv']\n",
      "incorrect file name\n",
      "['magnesis', 'btb3', 'loaded.mkv']\n",
      "incorrect file name\n",
      "['magnesis', 'btb4', 'loaded.mkv']\n",
      "incorrect file name\n",
      "['magnesis', 'btb5', 'loaded.mkv']\n",
      "incorrect file name\n",
      "['magnesis', 'btb6', 'unloaded.mkv']\n",
      "incorrect file name\n",
      "['magnesis_btb0_loaded.mkv', 'magnesis_btb0_loaded_trimmed.mp4', 'magnesis_btb1_loaded.mkv', 'magnesis_btb2_loaded.mkv', 'magnesis_btb3_loaded.mkv', 'magnesis_btb4_loaded.mkv', 'magnesis_btb5_loaded.mkv', 'magnesis_btb6_unloaded.mkv']\n",
      "[0]\n"
     ]
    }
   ],
   "source": [
    "file_names = []\n",
    "shrine_states = []\n",
    "for file_name in os.listdir(\"Footage/\"):\n",
    "    if file_name.endswith(\".mp4\") or file_name.endswith(\".mkv\"): \n",
    "            file_names.append(file_name)\n",
    "    print(file_name.split(\"_\"))\n",
    "    if (file_name.split(\"_\")[2] == \"unloaded\"):\n",
    "        shrine_states.append(1)\n",
    "    elif (file_name.split(\"_\")[2] == \"loaded\"):\n",
    "        shrine_states.append(0)\n",
    "    else:\n",
    "        print(\"incorrect file name\")\n",
    "print(file_names)\n",
    "print(shrine_states)"
   ]
  },
  {
   "cell_type": "code",
   "execution_count": 1,
   "metadata": {},
   "outputs": [
    {
     "ename": "SyntaxError",
     "evalue": "invalid syntax (<ipython-input-1-60c79c2adc9a>, line 2)",
     "output_type": "error",
     "traceback": [
      "\u001b[1;36m  File \u001b[1;32m\"<ipython-input-1-60c79c2adc9a>\"\u001b[1;36m, line \u001b[1;32m2\u001b[0m\n\u001b[1;33m    foreach capture..:\u001b[0m\n\u001b[1;37m                  ^\u001b[0m\n\u001b[1;31mSyntaxError\u001b[0m\u001b[1;31m:\u001b[0m invalid syntax\n"
     ]
    }
   ],
   "source": [
    "# Loop through each file in the Footage folder, get its name + extension and append to an array\n",
    "def get_sample_names_and_shrine_states():\n",
    "    file_names = []\n",
    "    shrine_states = []\n",
    "    for file_name in os.listdir(\"Footage/\"):\n",
    "        if file_name.endswith(\".mp4\") or file_name.endswith(\".mkv\"): \n",
    "            file_names.append(file_name)\n",
    "            print(file_name.split(\"_\"))\n",
    "            if (file_name.split(\"_\")[2] == \"unloaded\"):\n",
    "                shrine_states.append(1)\n",
    "            elif (file_name.split(\"_\")[2] == \"loaded\"):\n",
    "                shrine_states.append(0)\n",
    "            else:\n",
    "                print(\"incorrect file name\")\n",
    "    return (file_names, shrine_states)\n",
    "\n",
    "\n",
    "# Loop through every magnesis btb sample\n",
    "# Read the footage and append each frame\n",
    "# Count the number of load frames for each load\n",
    "# This will take a very long time to load\n",
    "def find_load_lengths(sample_names):\n",
    "    load_lengths = []\n",
    "    for sample_name in samples_names:\n",
    "        capture = cv2.VideoCapture(\"Footage/\" + sample_name)\n",
    "        capture.set(3, 640)\n",
    "        capture.set(4, 480)\n",
    "        success, img = capture.read()\n",
    "        print(success)\n",
    "        f_num = 0\n",
    "        frames = []\n",
    "        total_frames = int(capture.get(cv2.CAP_PROP_FRAME_COUNT))\n",
    "        sample_rate = total_frames\n",
    "    \n",
    "        # Loop through every frame in the sample and append it to the \"frames\" array\n",
    "        for f_num in range(0, total_frames, 1):\n",
    "            print(f_num)\n",
    "            capture.set(cv2.CAP_PROP_POS_FRAMES, f_num)\n",
    "            _, image = capture.read()\n",
    "            resize = cv2.resize(image, (640, 480))\n",
    "            frames.append(resize)\n",
    "    \n",
    "        # Loop thrugh every frame in a sample and check if it is a \"load\" frame, if so count how many load frames there in each world load\n",
    "        sum_load = 0\n",
    "        loads = []\n",
    "        for i in range(1, len(frames)):\n",
    "            if (ssim(frames[i-1], frames[i], multichannel = True) >= 0.95):\n",
    "                sum_load += 1\n",
    "            elif (sum_load != 0):\n",
    "                loads.append(sum_load)\n",
    "                sum_load = 0\n",
    "            else:\n",
    "                sum_load = 0\n",
    "\n",
    "        load_lengths.append(loads)\n",
    "    return load_lengths\n",
    "\n",
    "\n",
    "def create_sample(df, names, lengths, states,):"
   ]
  },
  {
   "cell_type": "code",
   "execution_count": null,
   "metadata": {},
   "outputs": [],
   "source": []
  }
 ],
 "metadata": {
  "kernelspec": {
   "display_name": "Python 3",
   "language": "python",
   "name": "python3"
  },
  "language_info": {
   "codemirror_mode": {
    "name": "ipython",
    "version": 3
   },
   "file_extension": ".py",
   "mimetype": "text/x-python",
   "name": "python",
   "nbconvert_exporter": "python",
   "pygments_lexer": "ipython3",
   "version": "3.7.6"
  }
 },
 "nbformat": 4,
 "nbformat_minor": 4
}
